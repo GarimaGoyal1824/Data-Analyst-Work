{
 "cells": [
  {
   "cell_type": "code",
   "execution_count": 117,
   "id": "4c79a2d3",
   "metadata": {},
   "outputs": [],
   "source": [
    "import requests"
   ]
  },
  {
   "cell_type": "code",
   "execution_count": 118,
   "id": "9d9281f1",
   "metadata": {},
   "outputs": [],
   "source": [
    "from bs4 import BeautifulSoup"
   ]
  },
  {
   "cell_type": "code",
   "execution_count": 119,
   "id": "c366a5f8",
   "metadata": {},
   "outputs": [],
   "source": [
    "import html5lib\n",
    "import pandas as pd"
   ]
  },
  {
   "cell_type": "code",
   "execution_count": 120,
   "id": "7cefa1e0",
   "metadata": {},
   "outputs": [],
   "source": [
    "url=\"https://www.worldometers.info/coronavirus/countries-where-coronavirus-has-spread/\""
   ]
  },
  {
   "cell_type": "code",
   "execution_count": 121,
   "id": "818b0360",
   "metadata": {},
   "outputs": [],
   "source": [
    "html_page=requests.get(url).text"
   ]
  },
  {
   "cell_type": "code",
   "execution_count": 122,
   "id": "d1ea22a9",
   "metadata": {},
   "outputs": [],
   "source": [
    "soup=BeautifulSoup(html_page,'html5lib')"
   ]
  },
  {
   "cell_type": "code",
   "execution_count": 123,
   "id": "7134c643",
   "metadata": {},
   "outputs": [],
   "source": [
    "casualty_data=pd.DataFrame(columns=[\"Country\",\"Cases\",\"Deaths\",\"Region\"])"
   ]
  },
  {
   "cell_type": "code",
   "execution_count": 124,
   "id": "a4782d68",
   "metadata": {},
   "outputs": [],
   "source": [
    "\n",
    "for row in soup.find(\"tbody\").find_all('tr'):\n",
    "    col = row.find_all(\"td\")\n",
    "    country=col[0].text\n",
    "    totalcases = col[1].text\n",
    "    deaths = col[2].text\n",
    "    area = col[3].text\n",
    "    casualty_data = casualty_data.append({\"Country\":country, \"Cases\":int(totalcases.replace(\",\",\"\")),\n",
    "                                    \"Deaths\":int(deaths.replace(\",\",\"\")),\n",
    "                                    \"Region\":area}, ignore_index=True)"
   ]
  },
  {
   "cell_type": "code",
   "execution_count": 131,
   "id": "e983951e",
   "metadata": {},
   "outputs": [
    {
     "data": {
      "text/html": [
       "<div>\n",
       "<style scoped>\n",
       "    .dataframe tbody tr th:only-of-type {\n",
       "        vertical-align: middle;\n",
       "    }\n",
       "\n",
       "    .dataframe tbody tr th {\n",
       "        vertical-align: top;\n",
       "    }\n",
       "\n",
       "    .dataframe thead th {\n",
       "        text-align: right;\n",
       "    }\n",
       "</style>\n",
       "<table border=\"1\" class=\"dataframe\">\n",
       "  <thead>\n",
       "    <tr style=\"text-align: right;\">\n",
       "      <th></th>\n",
       "      <th>Country</th>\n",
       "      <th>Cases</th>\n",
       "      <th>Deaths</th>\n",
       "      <th>Region</th>\n",
       "    </tr>\n",
       "  </thead>\n",
       "  <tbody>\n",
       "    <tr>\n",
       "      <th>0</th>\n",
       "      <td>United States</td>\n",
       "      <td>81423777</td>\n",
       "      <td>998128</td>\n",
       "      <td>North America</td>\n",
       "    </tr>\n",
       "    <tr>\n",
       "      <th>1</th>\n",
       "      <td>India</td>\n",
       "      <td>43010661</td>\n",
       "      <td>516574</td>\n",
       "      <td>Asia</td>\n",
       "    </tr>\n",
       "    <tr>\n",
       "      <th>2</th>\n",
       "      <td>Brazil</td>\n",
       "      <td>29641594</td>\n",
       "      <td>657302</td>\n",
       "      <td>South America</td>\n",
       "    </tr>\n",
       "    <tr>\n",
       "      <th>3</th>\n",
       "      <td>France</td>\n",
       "      <td>24161339</td>\n",
       "      <td>141085</td>\n",
       "      <td>Europe</td>\n",
       "    </tr>\n",
       "    <tr>\n",
       "      <th>4</th>\n",
       "      <td>United Kingdom</td>\n",
       "      <td>20093762</td>\n",
       "      <td>163511</td>\n",
       "      <td>Europe</td>\n",
       "    </tr>\n",
       "  </tbody>\n",
       "</table>\n",
       "</div>"
      ],
      "text/plain": [
       "          Country     Cases  Deaths         Region\n",
       "0   United States  81423777  998128  North America\n",
       "1           India  43010661  516574           Asia\n",
       "2          Brazil  29641594  657302  South America\n",
       "3          France  24161339  141085         Europe\n",
       "4  United Kingdom  20093762  163511         Europe"
      ]
     },
     "execution_count": 131,
     "metadata": {},
     "output_type": "execute_result"
    }
   ],
   "source": [
    "\n",
    "   casualty_data.head()"
   ]
  },
  {
   "cell_type": "code",
   "execution_count": null,
   "id": "d3b7d167",
   "metadata": {},
   "outputs": [],
   "source": []
  },
  {
   "cell_type": "code",
   "execution_count": null,
   "id": "29fc979c",
   "metadata": {},
   "outputs": [],
   "source": []
  },
  {
   "cell_type": "code",
   "execution_count": null,
   "id": "ab852b4a",
   "metadata": {},
   "outputs": [],
   "source": []
  }
 ],
 "metadata": {
  "kernelspec": {
   "display_name": "Python 3 (ipykernel)",
   "language": "python",
   "name": "python3"
  },
  "language_info": {
   "codemirror_mode": {
    "name": "ipython",
    "version": 3
   },
   "file_extension": ".py",
   "mimetype": "text/x-python",
   "name": "python",
   "nbconvert_exporter": "python",
   "pygments_lexer": "ipython3",
   "version": "3.9.7"
  }
 },
 "nbformat": 4,
 "nbformat_minor": 5
}
